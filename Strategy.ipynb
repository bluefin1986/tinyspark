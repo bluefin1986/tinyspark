{
 "cells": [
  {
   "cell_type": "code",
   "execution_count": null,
   "metadata": {},
   "outputs": [],
   "source": [
    "\n",
    "class Strategy(object):\n",
    "    #持仓比例，默认1即百分百\n",
    "    holdingRatio = 1\n",
    "    #最大持股数量，即可用资金最多用于购买多少支股票\n",
    "    maxHoldingStocks = 4\n",
    "    \n",
    "class RSIStrategy(Strategy):\n",
    "    RSI_OVER_BUY = 80\n",
    "    RSI_OVER_SELL = 20\n",
    "    RSI_OVER_BUY_12 = 75\n",
    "    RSI_OVER_SELL_12 = 25\n",
    "    RSI_OVER_BUY_24 = 70\n",
    "    RSI_OVER_SELL_24 = 30\n",
    "    #日线超卖区域积分阈值\n",
    "    RSI_INTE_OVERSELL_THRESHOLD_DAY = 50\n",
    "    #日线超买区域积分阈值\n",
    "    RSI_INTE_OVERBUY_THRESHOLD_DAY = 300\n",
    "    def isOverBuy(period):\n",
    "        return False\n",
    "\n",
    "    def isOverSell(period):\n",
    "        return False"
   ]
  }
 ],
 "metadata": {
  "kernelspec": {
   "display_name": "Python 3",
   "language": "python",
   "name": "python3"
  },
  "language_info": {
   "codemirror_mode": {
    "name": "ipython",
    "version": 3
   },
   "file_extension": ".py",
   "mimetype": "text/x-python",
   "name": "python",
   "nbconvert_exporter": "python",
   "pygments_lexer": "ipython3",
   "version": "3.7.3"
  }
 },
 "nbformat": 4,
 "nbformat_minor": 2
}
