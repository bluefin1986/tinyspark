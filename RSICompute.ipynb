{
 "cells": [
  {
   "cell_type": "code",
   "execution_count": 12,
   "metadata": {},
   "outputs": [],
   "source": [
    "import baostock as bs\n",
    "import pandas as pd\n",
    "import talib as ta\n",
    "import matplotlib.pyplot as plt\n",
    "import pymongo\n",
    "import json\n",
    "from Kline import DayKline,WeekKline,MonthKline\n",
    "\n",
    "rsiOverBuy = 80\n",
    "rsiOverSell = 20\n",
    "rsiMiddle = 50"
   ]
  },
  {
   "cell_type": "code",
   "execution_count": 50,
   "metadata": {},
   "outputs": [
    {
     "name": "stdout",
     "output_type": "stream",
     "text": [
      "login success!\n",
      "达安基因\n",
      "logout success!\n"
     ]
    },
    {
     "data": {
      "text/plain": [
       "<baostock.data.resultset.ResultData at 0x114ebb2e8>"
      ]
     },
     "execution_count": 50,
     "metadata": {},
     "output_type": "execute_result"
    }
   ],
   "source": [
    "# dataList = []\n",
    "# dayk = DayKline(\"sz.000001\", \"深发展\")\n",
    "# dayK2 = DayKline(\"sz.000002\", \"万科A\")\n",
    "# dataList.append(dayk.__dict__)\n",
    "# dataList.append(dayK2.__dict__)\n",
    "# dataListJson = json.dumps(dataList, ensure_ascii=False) \n",
    "# mydb = connectDB()\n",
    "# collection = mydb[\"Kline_Day\"]\n",
    "# collection.insert_many(dataList)\n",
    "bs.login()\n",
    "rs = bs.query_stock_basic(code=\"sz.002030\")\n",
    "stockName = None\n",
    "if (rs.error_code == '0') & rs.next():\n",
    "    stockName = rs.get_row_data()[1]\n",
    "print (stockName)\n",
    "bs.logout()"
   ]
  },
  {
   "cell_type": "code",
   "execution_count": 28,
   "metadata": {},
   "outputs": [
    {
     "data": {
      "text/plain": [
       "'[{\"code\": \"sz.000001\", \"name\": \"深发展\"}, {\"code\": \"sz.000002\", \"name\": \"万科A\"}]'"
      ]
     },
     "execution_count": 28,
     "metadata": {},
     "output_type": "execute_result"
    }
   ],
   "source": [
    "dataListJson\n"
   ]
  },
  {
   "cell_type": "code",
   "execution_count": 53,
   "metadata": {},
   "outputs": [],
   "source": [
    "\n",
    "##\n",
    "# 连接数据库，这里用的mongoDB\n",
    "#\n",
    "def connectDB():\n",
    "    myclient = pymongo.MongoClient(\"mongodb://localhost:27017/\")\n",
    "    mydb = myclient[\"tinyspark\"]\n",
    "    return mydb\n",
    "    mycol = mydb[\"sites\"]\n",
    "\n",
    "\n",
    "##\n",
    "#  下载日K线数据\n",
    "#  code 股票代码\n",
    "#  startDate 起始时间\n",
    "#  endDate   结束时间\n",
    "#\n",
    "def downloadDailyStockKline(bsClient, stockCode, startdate, enddate):\n",
    "    \n",
    "    #查股票名字\n",
    "    #返回示例数据\n",
    "    #code\tcode_name\tipoDate\toutDate\ttype\tstatus\n",
    "    #sh.600000\t浦发银行\t1999-11-10\t\t1\t1\n",
    "\n",
    "    rs = bsClient.query_stock_basic(code=stockCode)\n",
    "    stockName = None\n",
    "    if (rs.error_code == '0') & rs.next():\n",
    "        stockName = rs.get_row_data()[1]\n",
    "    if stockName == None:\n",
    "        raise RuntimeError(\"无此股票代码：\", stockCode)\n",
    "    \n",
    "    #### 获取沪深A股历史K线数据 ####\n",
    "    # 详细指标参数，参见“历史行情指标参数”章节；“分钟线”参数与“日线”参数不同。\n",
    "    # 分钟线指标：date,time,code,open,high,low,close,volume,amount,adjustflag\n",
    "    rs = bsClient.query_history_k_data_plus(code,\n",
    "        \"date,code,open,high,low,close,preclose,volume,amount,adjustflag,turn,tradeStatus,pctChg,isST\",\n",
    "        start_date=startdate, end_date=enddate,\n",
    "        frequency=\"d\", adjustflag=\"3\")\n",
    "    \n",
    "    #### 打印结果集 ####\n",
    "    dataList = []\n",
    "    while (rs.error_code == '0') & rs.next():\n",
    "        # 获取一条记录，将记录合并在一起\n",
    "#         data_list.append(rs.get_row_data())\n",
    "        row = rs.get_row_data()\n",
    "        klineDay = DayKline(row[1], stockName)\n",
    "        klineDay.date = row[0]\n",
    "        klineDay.openPrice = row[2]\n",
    "        klineDay.highPrice = row[3]\n",
    "        klineDay.lowPrice = row[4]\n",
    "        klineDay.closePRice = row[5]\n",
    "        klineDay.preClosePrice = row[6]\n",
    "        klineDay.volumn = row[7]\n",
    "        klineDay.amount = row[8]\n",
    "        klineDay.adjustflag = row[9]\n",
    "        klineDay.turn = row[10]\n",
    "        klineDay.tradeStatus = row[11]\n",
    "        klineDay.changePercent = row[12]\n",
    "        klineDay.isST = row[13]\n",
    "        dataList.append(klineDay.__dict__)\n",
    "\n",
    "#     dataListJson = json.dumps(dataList, ensure_ascii=False) \n",
    "    mydb = connectDB()\n",
    "    collection = mydb[\"Kline_Day\"]\n",
    "    if len(dataList) > 0:\n",
    "        collection.insert_many(dataList)\n",
    "    else:\n",
    "        raise RuntimeError(\"数据为空\")\n",
    "#     result = pd.DataFrame(data_list, columns=rs.fields)\n",
    "\n",
    "#     # 剔除停盘数据\n",
    "#     df_status = result[result['tradeStatus'] == '1']\n",
    "\n",
    "#     df_status['close'] = df_status['close'].astype(float)\n",
    "    \n",
    "    return True\n",
    "\n",
    "##\n",
    "#  从数据库读取K线数据，转DataFrame\n",
    "#\n",
    "def readStockKline(code, period, startDate, endDate):\n",
    "    \n",
    "\n",
    "def computeRSI(klineDataFrame):\n",
    "\n",
    "    rsi_12days = ta.RSI(klineDataFrame['close'],timeperiod=12)\n",
    "    rsi_6days = ta.RSI(klineDataFrame['close'],timeperiod=6)\n",
    "    rsi_24days = ta.RSI(klineDataFrame['close'],timeperiod=24)\n",
    "    klineDataFrame['rsi_6days'] = rsi_6days\n",
    "    klineDataFrame['rsi_12days'] = rsi_12days\n",
    "    klineDataFrame['rsi_24days'] = rsi_24days\n",
    "    ##添加参考线位置\n",
    "    klineDataFrame['overBuy'] = rsiOverBuy\n",
    "    klineDataFrame['overSell'] = rsiOverSell\n",
    "    klineDataFrame['middle'] = rsiMiddle\n",
    "\n",
    "    # RSI超卖和超买\n",
    "    rsi_buy_position = klineDataFrame['rsi_6days'] > rsiOverBuy\n",
    "    rsi_sell_position = klineDataFrame['rsi_6days'] < rsiOverSell\n",
    "    klineDataFrame.loc[rsi_buy_position[(rsi_buy_position == True) & (rsi_buy_position.shift() == False)].index, '超买'] = '超买'\n",
    "    klineDataFrame.loc[rsi_sell_position[(rsi_sell_position == True) & (rsi_sell_position.shift() == False)].index, '超卖'] = '超卖'\n",
    "    return klineDataFrame\n",
    "\n",
    "    "
   ]
  },
  {
   "cell_type": "code",
   "execution_count": null,
   "metadata": {},
   "outputs": [],
   "source": [
    "def downloadAllKlineDataOfSingleDay(date):\n",
    "    # 获取指定日期的指数、股票数据\n",
    "    stock_rs = bs.query_all_stock(date)\n",
    "    stock_df = stock_rs.get_data()\n",
    "    data_df = pd.DataFrame()\n",
    "    for code in stock_df[\"code\"]:\n",
    "        k_rs = bs.query_history_k_data_plus(code, \n",
    "            \"date,code,open,high,low,close,preclose,volume,amount,adjustflag,turn,tradeStatus,pctChg,isST\",\n",
    "            date, date)\n",
    "        data_df = data_df.append(k_rs.get_data())\n",
    "    data_df.to_csv(\"D:\\\\demo_assignDayData.csv\", encoding=\"gbk\", index=False)\n"
   ]
  },
  {
   "cell_type": "code",
   "execution_count": 54,
   "metadata": {},
   "outputs": [
    {
     "name": "stdout",
     "output_type": "stream",
     "text": [
      "login success!\n"
     ]
    },
    {
     "ename": "NameError",
     "evalue": "name 'df_status' is not defined",
     "output_type": "error",
     "traceback": [
      "\u001b[0;31m---------------------------------------------------------------------------\u001b[0m",
      "\u001b[0;31mNameError\u001b[0m                                 Traceback (most recent call last)",
      "\u001b[0;32m<ipython-input-54-ecf078a4549f>\u001b[0m in \u001b[0;36m<module>\u001b[0;34m\u001b[0m\n\u001b[1;32m      5\u001b[0m     \u001b[0;31m## 下载数据\u001b[0m\u001b[0;34m\u001b[0m\u001b[0;34m\u001b[0m\u001b[0;34m\u001b[0m\u001b[0m\n\u001b[1;32m      6\u001b[0m     \u001b[0mbs\u001b[0m\u001b[0;34m.\u001b[0m\u001b[0mlogin\u001b[0m\u001b[0;34m(\u001b[0m\u001b[0;34m)\u001b[0m\u001b[0;34m\u001b[0m\u001b[0;34m\u001b[0m\u001b[0m\n\u001b[0;32m----> 7\u001b[0;31m     \u001b[0mdf\u001b[0m \u001b[0;34m=\u001b[0m \u001b[0mdownloadDailyStockKline\u001b[0m\u001b[0;34m(\u001b[0m\u001b[0mbs\u001b[0m\u001b[0;34m,\u001b[0m \u001b[0mcode\u001b[0m\u001b[0;34m,\u001b[0m \u001b[0mstartDate\u001b[0m\u001b[0;34m,\u001b[0m \u001b[0mendDate\u001b[0m\u001b[0;34m)\u001b[0m\u001b[0;34m\u001b[0m\u001b[0;34m\u001b[0m\u001b[0m\n\u001b[0m\u001b[1;32m      8\u001b[0m     \u001b[0mbs\u001b[0m\u001b[0;34m.\u001b[0m\u001b[0mlogout\u001b[0m\u001b[0;34m(\u001b[0m\u001b[0;34m)\u001b[0m\u001b[0;34m\u001b[0m\u001b[0;34m\u001b[0m\u001b[0m\n\u001b[1;32m      9\u001b[0m \u001b[0;31m#     df.to_csv(\"/Users/matt/Documents/pythonworkspace/dailyKline.csv\", encoding='utf_8_sig')\u001b[0m\u001b[0;34m\u001b[0m\u001b[0;34m\u001b[0m\u001b[0;34m\u001b[0m\u001b[0m\n",
      "\u001b[0;32m<ipython-input-53-eb383a5bd842>\u001b[0m in \u001b[0;36mdownloadDailyStockKline\u001b[0;34m(bsClient, stockCode, startdate, enddate)\u001b[0m\n\u001b[1;32m     75\u001b[0m \u001b[0;31m#     df_status['close'] = df_status['close'].astype(float)\u001b[0m\u001b[0;34m\u001b[0m\u001b[0;34m\u001b[0m\u001b[0;34m\u001b[0m\u001b[0m\n\u001b[1;32m     76\u001b[0m \u001b[0;34m\u001b[0m\u001b[0m\n\u001b[0;32m---> 77\u001b[0;31m     \u001b[0;32mreturn\u001b[0m \u001b[0mdf_status\u001b[0m\u001b[0;34m\u001b[0m\u001b[0;34m\u001b[0m\u001b[0m\n\u001b[0m\u001b[1;32m     78\u001b[0m \u001b[0;34m\u001b[0m\u001b[0m\n\u001b[1;32m     79\u001b[0m \u001b[0;32mdef\u001b[0m \u001b[0mcomputeRSI\u001b[0m\u001b[0;34m(\u001b[0m\u001b[0mklineDataFrame\u001b[0m\u001b[0;34m)\u001b[0m\u001b[0;34m:\u001b[0m\u001b[0;34m\u001b[0m\u001b[0;34m\u001b[0m\u001b[0m\n",
      "\u001b[0;31mNameError\u001b[0m: name 'df_status' is not defined"
     ]
    }
   ],
   "source": [
    "if __name__ == '__main__':\n",
    "    code = \"sz.002030\"\n",
    "    startDate = \"2017-01-01\"\n",
    "    endDate = \"2019-09-20\"\n",
    "    ## 下载数据\n",
    "    bs.login()\n",
    "    result = downloadDailyStockKline(bs, code, startDate, endDate)\n",
    "    bs.logout()\n",
    "#     df.to_csv(\"/Users/matt/Documents/pythonworkspace/dailyKline.csv\", encoding='utf_8_sig')\n",
    "    \n",
    "#     df = pd.read_csv(\"/Users/matt/Documents/pythonworkspace/dailyKline.csv\")\n",
    "#     ## 计算开始\n",
    "#     rsi = computeRSI(df)\n",
    "#     df2 = rsi[['date','rsi_6days','rsi_12days','rsi_24days','overBuy','overSell','middle']]\n",
    "\n",
    "#     df2.index = rsi['date']\n",
    "#     plot = df2.plot(title='RSI', figsize=(40,10))\n",
    "# #     plt.show()\n",
    "#     fig = plot.get_figure() \n",
    "#     fig.savefig('/Users/matt/Downloads/rsi.png')\n",
    "#     rsi.to_csv(\"/Users/matt/Documents/pythonworkspace/rsi.csv\",encoding='utf_8_sig')\n",
    "    "
   ]
  },
  {
   "cell_type": "code",
   "execution_count": null,
   "metadata": {},
   "outputs": [],
   "source": []
  }
 ],
 "metadata": {
  "kernelspec": {
   "display_name": "Python 3",
   "language": "python",
   "name": "python3"
  },
  "language_info": {
   "codemirror_mode": {
    "name": "ipython",
    "version": 3
   },
   "file_extension": ".py",
   "mimetype": "text/x-python",
   "name": "python",
   "nbconvert_exporter": "python",
   "pygments_lexer": "ipython3",
   "version": "3.7.3"
  }
 },
 "nbformat": 4,
 "nbformat_minor": 2
}
