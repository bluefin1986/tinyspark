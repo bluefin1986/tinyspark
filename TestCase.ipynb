{
 "cells": [
  {
   "cell_type": "code",
   "execution_count": null,
   "metadata": {},
   "outputs": [],
   "source": [
    "import KlineService\n",
    "import RSICompute\n",
    "\n",
    "# KlineService.downloadAllStocks(\"2019-10-16\")\n",
    "# KlineService.downloadAllKlineDataOfSingleDay(\"2019-09-30\")\n",
    "# KlineService.readStockKline(\"sh.600000\", \"day\", \"2018-01-01\", \"2019-09-29\")\n",
    "# KlineService.downloadAllKlineDataOfPeriod(\"60m\", \"2019-10-21\")\n",
    "KlineService.downloadAllKlineDataOfPeriod(\"day\", \"2019-10-21\")\n",
    "\n",
    "# KlineService.readAllStockKline(\"day\", \"2019-10-11\", \"2019-10-11\")\n",
    "\n",
    "\n",
    "# RSICompute.downloadAllKlineDataOfSingleDay(\"2019-09-24\")\n",
    "\n",
    "# RSICompute.downloadAllKlineDataOfPeriod(\"day\", \"2017-01-01\")\n",
    "# RSICompute.downloadAllStocks(\"2019-09-23\")\n",
    "# dfStocks = KlineService.allStocks()\n",
    "\n",
    "#计算RSI\n",
    "# RSICompute.computeAllRSIDataOfPeriod(\"day\", \"2017-01-01\")\n",
    "# RSICompute.computeAllRSIDataOfPeriod(\"60m\", \"2018-01-01\")\n",
    "\n",
    "# RSICompute.computeAllRSIData(\"day\", \"2019-09-27\")\n",
    "\n",
    "\n",
    "# df600673 = readRSI(\"day\", \"sh.600673\", \"2019-09-24\",\"2019-09-30\")\n",
    "# df002030 = readRSI(\"60m\", \"sz.002030\", \"2019-09-30\",\"2019-09-30\")\n",
    "# valueArr = df600673[\"rsi_6\"]\n",
    "# valueArr = np.array(valueArr)\n",
    "# set_trace()\n",
    "# a = np.reshape(valueArr, (-1, len(df600673[\"rsi_6\"])))\n",
    "# integrateValues(a)\n",
    "\n",
    "computeDate = \"2019-10-21\"\n",
    "df = RSICompute.computeAllRSIDataIntegrate(\"day\", computeDate, False)\n",
    "df = df[df[\"rsi_inte_6\"] <= RSI_INTE_OVERSELL_THRESHOLD_DAY].sort_values(by=['rsi_inte_6'])\n",
    "\n",
    "df.to_csv(\"/Users/matt/Downloads/dayRSI_integrate_\" + computeDate + \".csv\")"
   ]
  }
 ],
 "metadata": {
  "kernelspec": {
   "display_name": "Python 3",
   "language": "python",
   "name": "python3"
  },
  "language_info": {
   "codemirror_mode": {
    "name": "ipython",
    "version": 3
   },
   "file_extension": ".py",
   "mimetype": "text/x-python",
   "name": "python",
   "nbconvert_exporter": "python",
   "pygments_lexer": "ipython3",
   "version": "3.7.3"
  }
 },
 "nbformat": 4,
 "nbformat_minor": 2
}
