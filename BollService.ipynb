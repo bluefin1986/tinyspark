{
 "cells": [
  {
   "cell_type": "code",
   "execution_count": 1,
   "metadata": {},
   "outputs": [],
   "source": [
    "import pandas as pd\n",
    "import dbutil\n",
    "import KlineService\n",
    "from datetime import datetime, date\n",
    "from BollBand import DayBollBand,WeekBollBand,MonthBollBand,SixtyMinBollBand,FiveMinBollBand\n",
    "from IPython.core.debugger import set_trace\n",
    "import talib\n",
    "\n",
    "##\n",
    "#  选择不同的BollBand Collection\n",
    "#\n",
    "def chooseBollBandCollection(period):\n",
    "    periodBollBandCollection = {\n",
    "        \"day\" : \"BollBand_Day\",\n",
    "        \"week\" : \"BollBand_Week\",\n",
    "        \"month\" : \"BollBand_Month\",\n",
    "        \"5m\" : \"BollBand_5m\",\n",
    "        \"15m\" : \"BollBand_15m\",\n",
    "        \"30m\" : \"BollBand_30m\",\n",
    "        \"60m\" : \"BollBand_60m\"\n",
    "    }\n",
    "    return periodBollBandCollection.get(period)\n",
    "\n",
    "##\n",
    "#  写BollBand数据库\n",
    "#\n",
    "#\n",
    "def writeBollBandToDb(period, stockCode, stockName, boll_df):\n",
    "    dataList = []\n",
    "    for index,bollBand in boll_df.iterrows():\n",
    "        bollBandDate = bollBand['date']\n",
    "        if period == \"day\":\n",
    "            bollBandObj = DayBollBand(stockCode, stockName)\n",
    "        elif period == \"week\":\n",
    "            bollBandObj = WeekBollBand(stockCode, stockName)\n",
    "        elif period == \"month\":\n",
    "            bollBandObj = MonthBollBand(stockCode, stockName)\n",
    "        elif period == \"5m\":\n",
    "            bollBandObj = FiveMinBollBand(stockCode, stockName)\n",
    "        elif period == \"15m\":\n",
    "            bollBandObj = FiftyMinBollBand(stockCode, stockName)\n",
    "        elif period == \"30m\":\n",
    "            bollBandObj = ThirtyMinBollBand(stockCode, stockName)\n",
    "        elif period == \"60m\":\n",
    "            bollBandObj = SixtyMinBollBand(stockCode, stockName)\n",
    "\n",
    "        bollBandObj.date = bollBandDate\n",
    "        bollBandObj.upper = bollBand['upper']\n",
    "        bollBandObj.middle = bollBand['middle']\n",
    "        bollBandObj.lower = bollBand['lower']\n",
    "        bollBandObj.closePrice = bollBand['closePrice']\n",
    "        bollBandObj.overBuy = bollBand['overBuyFlag']\n",
    "        bollBandObj.overSell = bollBand['overSellFlag']\n",
    "        \n",
    "        dataList.append(bollBandObj.__dict__)\n",
    "        \n",
    "    mydb = dbutil.connectDB()\n",
    "    collection = mydb[chooseBollBandCollection(period)]\n",
    "    if len(dataList) > 0:\n",
    "        collection.insert_many(dataList)\n",
    "    else:\n",
    "        raise RuntimeError(\"BollBand数据为空\")\n",
    "        \n",
    "def computeStockBollBand(period, stockCode, stockName, startDate, endDate):\n",
    "    try:\n",
    "#       compute1 = datetime.datetime.now().timestamp()\n",
    "        df = KlineService.readStockKline(stockCode, period, startDate, endDate)\n",
    "#       compute2 = datetime.datetime.now().timestamp()\n",
    "#       print(\"read stockLine:\", compute2 - compute1)\n",
    "        if period == \"day\":\n",
    "            # 剔除日线停盘数据\n",
    "            df = df[df['tradeStatus'] == '1']\n",
    "        closePrice = df[\"closePrice\"]\n",
    "        upper, middle, lower = talib.BBANDS(closePrice, timeperiod=22, nbdevup=2, nbdevdn=2, matype=0)\n",
    "        set_trace()\n",
    "        data = {\n",
    "            \"upper\":upper,\n",
    "            \"middle\":middle,\n",
    "            \"lower\":lower,\n",
    "            \"closePrice\":closePrice\n",
    "        }\n",
    "        bollDF = pd.DataFrame(data)\n",
    "        bollDF[\"date\"] = df[\"date\"]\n",
    "        bollDF[\"overBuyFlag\"] = False\n",
    "        bollDF[\"overSellFlag\"] = False\n",
    "#       compute3 = datetime.datetime.now().timestamp()\n",
    "#       print(\"compute rsi:\", compute3 - compute2)\n",
    "        writeBollBandToDb(period, stockCode, stockName, bollDF)\n",
    "#       compute4 = datetime.datetime.now().timestamp()\n",
    "#       print(\"write to db:\", compute4 - compute3)\n",
    "        return True\n",
    "    except BaseException as e:\n",
    "        print (\"download \" + stockCode + \" error:\" + str(e))\n",
    "        return False"
   ]
  },
  {
   "cell_type": "code",
   "execution_count": 2,
   "metadata": {},
   "outputs": [
    {
     "name": "stdout",
     "output_type": "stream",
     "text": [
      "> \u001b[0;32m<ipython-input-1-63fabcdf4197>\u001b[0m(77)\u001b[0;36mcomputeStockBollBand\u001b[0;34m()\u001b[0m\n",
      "\u001b[0;32m     75 \u001b[0;31m        \u001b[0mset_trace\u001b[0m\u001b[0;34m(\u001b[0m\u001b[0;34m)\u001b[0m\u001b[0;34m\u001b[0m\u001b[0;34m\u001b[0m\u001b[0m\n",
      "\u001b[0m\u001b[0;32m     76 \u001b[0;31m        data = {\n",
      "\u001b[0m\u001b[0;32m---> 77 \u001b[0;31m            \u001b[0;34m\"upper\"\u001b[0m\u001b[0;34m:\u001b[0m\u001b[0mupper\u001b[0m\u001b[0;34m,\u001b[0m\u001b[0;34m\u001b[0m\u001b[0;34m\u001b[0m\u001b[0m\n",
      "\u001b[0m\u001b[0;32m     78 \u001b[0;31m            \u001b[0;34m\"middle\"\u001b[0m\u001b[0;34m:\u001b[0m\u001b[0mmiddle\u001b[0m\u001b[0;34m,\u001b[0m\u001b[0;34m\u001b[0m\u001b[0;34m\u001b[0m\u001b[0m\n",
      "\u001b[0m\u001b[0;32m     79 \u001b[0;31m            \u001b[0;34m\"lower\"\u001b[0m\u001b[0;34m:\u001b[0m\u001b[0mlower\u001b[0m\u001b[0;34m,\u001b[0m\u001b[0;34m\u001b[0m\u001b[0;34m\u001b[0m\u001b[0m\n",
      "\u001b[0m\n",
      "ipdb> c\n"
     ]
    },
    {
     "data": {
      "text/plain": [
       "True"
      ]
     },
     "execution_count": 2,
     "metadata": {},
     "output_type": "execute_result"
    }
   ],
   "source": [
    "computeStockBollBand(\"60m\", \"sz.002030\", \"达安基因\", \"2017-01-01\", \"2019-09-27\")"
   ]
  },
  {
   "cell_type": "code",
   "execution_count": null,
   "metadata": {},
   "outputs": [],
   "source": []
  }
 ],
 "metadata": {
  "kernelspec": {
   "display_name": "Python 3",
   "language": "python",
   "name": "python3"
  },
  "language_info": {
   "codemirror_mode": {
    "name": "ipython",
    "version": 3
   },
   "file_extension": ".py",
   "mimetype": "text/x-python",
   "name": "python",
   "nbconvert_exporter": "python",
   "pygments_lexer": "ipython3",
   "version": "3.7.3"
  }
 },
 "nbformat": 4,
 "nbformat_minor": 2
}
