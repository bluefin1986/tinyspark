{
 "cells": [
  {
   "cell_type": "code",
   "execution_count": 1,
   "metadata": {},
   "outputs": [],
   "source": [
    "# RSI指标父类\n",
    "class RSI(object):\n",
    "    code = None\n",
    "    name = None\n",
    "    date = None\n",
    "    rsi_6 = 0\n",
    "    rsi_12 = 0\n",
    "    rsi_24 = 0\n",
    "    overSell = False\n",
    "    overBuy = False\n",
    "    \n",
    "    def __init__(self,code,name):\n",
    "        self.code = code\n",
    "        self.name = name\n",
    "        \n",
    "    def __str__(self):\n",
    "        return '(%s %s %s %s %s %s overSell:%s overBuy:%s)' %(self.code, self.name, self.date, \n",
    "                              self.rsi_6, self.rsi_12, self.rsi_24, overSell, overBuy)\n",
    "\n",
    "#日线RSI\n",
    "class DayRSI(RSI):\n",
    "    def __str__(self):\n",
    "        return '(日线RSI:%s %s %s %s %s %s overSell:%s overBuy:%s)' %(self.code, self.name, self.date, \n",
    "                              self.rsi_6, self.rsi_12, self.rsi_24, overSell, overBuy)\n",
    "#周线RSI\n",
    "class WeekRSI(RSI):\n",
    "    def __str__(self):\n",
    "        return '(周线RSI:%s %s %s %s %s %s overSell:%s overBuy:%s)' %(self.code, self.name, self.date, \n",
    "                              self.rsi_6, self.rsi_12, self.rsi_24, overSell, overBuy)\n",
    "#月线RSI\n",
    "class MonthRSI(RSI):\n",
    "    def __str__(self):\n",
    "        return '(月线RSI:%s %s %s %s %s %s overSell:%s overBuy:%s)' %(self.code, self.name, self.date, \n",
    "                              self.rsi_6, self.rsi_12, self.rsi_24, overSell, overBuy)\n",
    "#5分钟线RSI\n",
    "class FiveMinRSI(RSI):\n",
    "    def __str__(self):\n",
    "        return '(5分钟线RSI:%s %s %s %s %s %s overSell:%s overBuy:%s)' %(self.code, self.name, self.date, \n",
    "                              self.rsi_6, self.rsi_12, self.rsi_24, overSell, overBuy)\n",
    "#15分钟线RSI\n",
    "class FiftyMinRSI(RSI):\n",
    "    def __str__(self):\n",
    "        return '(15分钟线RSI:%s %s %s %s %s %s overSell:%s overBuy:%s)' %(self.code, self.name, self.date, \n",
    "                              self.rsi_6, self.rsi_12, self.rsi_24, overSell, overBuy)\n",
    "#30分钟线RSI\n",
    "class ThirtyMinRSI(RSI):\n",
    "    def __str__(self):\n",
    "        return '(30分钟线RSI:%s %s %s %s %s %s overSell:%s overBuy:%s)' %(self.code, self.name, self.date, \n",
    "                              self.rsi_6, self.rsi_12, self.rsi_24, overSell, overBuy)\n",
    "#小时线RSI\n",
    "class SixtyMinRSI(RSI):\n",
    "    def __str__(self):\n",
    "        return '(小时线RSI:%s %s %s %s %s %s overSell:%s overBuy:%s)' %(self.code, self.name, self.date, \n",
    "                              self.rsi_6, self.rsi_12, self.rsi_24, overSell, overBuy)"
   ]
  },
  {
   "cell_type": "code",
   "execution_count": null,
   "metadata": {},
   "outputs": [],
   "source": []
  }
 ],
 "metadata": {
  "kernelspec": {
   "display_name": "Python 3",
   "language": "python",
   "name": "python3"
  },
  "language_info": {
   "codemirror_mode": {
    "name": "ipython",
    "version": 3
   },
   "file_extension": ".py",
   "mimetype": "text/x-python",
   "name": "python",
   "nbconvert_exporter": "python",
   "pygments_lexer": "ipython3",
   "version": "3.7.3"
  }
 },
 "nbformat": 4,
 "nbformat_minor": 2
}
