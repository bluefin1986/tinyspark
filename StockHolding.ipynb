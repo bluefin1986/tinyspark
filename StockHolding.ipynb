{
 "cells": [
  {
   "cell_type": "code",
   "execution_count": 1,
   "metadata": {},
   "outputs": [],
   "source": [
    "class StockHolding(object):\n",
    "    acctId = None\n",
    "    stockCode = None\n",
    "    stockName = None\n",
    "    stockNums = 0\n",
    "    stockPrice = 0.0\n",
    "    cost = 0.0\n",
    "    profits = 0.0\n",
    "    tradeAbleNums = 0\n",
    "    \n",
    "    def _init_(self, acctId, stockCode, stockNums, stockPrice):\n",
    "        self.acctId = acctId\n",
    "        self.stockCode = stockCode\n",
    "        self.stockNums = stockNums\n",
    "        self.stockPrice = stockPrice"
   ]
  },
  {
   "cell_type": "code",
   "execution_count": null,
   "metadata": {},
   "outputs": [],
   "source": []
  }
 ],
 "metadata": {
  "kernelspec": {
   "display_name": "Python 3",
   "language": "python",
   "name": "python3"
  },
  "language_info": {
   "codemirror_mode": {
    "name": "ipython",
    "version": 3
   },
   "file_extension": ".py",
   "mimetype": "text/x-python",
   "name": "python",
   "nbconvert_exporter": "python",
   "pygments_lexer": "ipython3",
   "version": "3.7.3"
  }
 },
 "nbformat": 4,
 "nbformat_minor": 2
}
