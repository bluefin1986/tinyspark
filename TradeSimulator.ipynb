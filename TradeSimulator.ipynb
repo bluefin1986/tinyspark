{
 "cells": [
  {
   "cell_type": "code",
   "execution_count": 4,
   "metadata": {},
   "outputs": [],
   "source": [
    "import datetime\n",
    "from Account import *\n",
    "from Trade import *\n",
    "from StockHolding import *\n",
    "from Stock import *\n",
    "from Strategy import *\n",
    "\n",
    "import uuid\n",
    "import KlineService\n",
    "import RSICompute\n",
    "from IPython.core.debugger import set_trace\n",
    "import dbutil\n",
    "\n",
    "#初始化指定数量的账号\n",
    "def initAccount(acctCount, equity):\n",
    "    if acctCount <= 0:\n",
    "        raise RuntimeError(\"初始化账户数得大于0\")\n",
    "    dateStr = datetime.datetime.strftime(datetime.datetime.now(), \"%m%d\")\n",
    "    mydb = dbutil.connectDB()\n",
    "    collection = mydb[\"Account\"]\n",
    "    dataList = []\n",
    "    for i in range(0, acctCount):\n",
    "        newAcct = Account(str(uuid.uuid1()).replace(\"-\",\"\"), dateStr + \"account\" + str(i + 1))\n",
    "        newAcct.initiatedEquity = equity\n",
    "        newAcct.equity = equity\n",
    "        dataList.append(newAcct.__dict__)\n",
    "    collection.insert_many(dataList)\n",
    "    return True\n",
    "    \n",
    "def loadAccounts():\n",
    "    mydb = dbutil.connectDB()\n",
    "    collection = mydb[\"Account\"]\n",
    "    cursor = collection.find({})\n",
    "    df = pd.DataFrame(list(cursor))\n",
    "    return df\n",
    "\n",
    "##\n",
    "# 执行某一天的交易\n",
    "# specifiedDate 日期\n",
    "# strategy 交易策略\n",
    "#\n",
    "def executeTrade(specifiedDate, strategy):\n",
    "    #取所有的\n",
    "    dfKline = KlineService.readAllStockKline(\"day\", specifiedDate, specifiedDate)\n",
    "    if dfKline.empty:\n",
    "        raise RuntimeError(\"没有%s的K线数据，无法交易\" % specifiedDate)\n",
    "    dfAcct = loadAccounts()\n",
    "    if dfAcct.empty:\n",
    "        raise RuntimeError(\"交易账户还没有初始化\")\n",
    "        \n",
    "def findStocksByRSI(period, specifiedDate, strategy, includeST):\n",
    "    df = RSICompute.computeAllRSIDataIntegrate(period, specifiedDate, includeST)\n",
    "    df = df[df[\"rsi_inte_6\"] <= strategy.RSI_INTE_OVERSELL_THRESHOLD_DAY].sort_values(by=['rsi_inte_6'])\n",
    "    if df.empty:\n",
    "        raise RuntimeError(\"%s 这天没的股票推荐\" % specifiedDate)\n",
    "    #把选中股票当周期价格找出来\n",
    "    stockDict = KlineService.readAllStockKline(period, specifiedDate, specifiedDate)\n",
    "    stocks = []\n",
    "    for index,rsiInte in df.iterrows():\n",
    "        stocks.append(stockDict[rsiInte[\"code\"]])\n",
    "    return stocks"
   ]
  },
  {
   "cell_type": "code",
   "execution_count": 5,
   "metadata": {},
   "outputs": [
    {
     "ename": "NameError",
     "evalue": "name 'RSIStrategy' is not defined",
     "traceback": [
      "\u001b[0;31m---------------------------------------------------------------------------\u001b[0m",
      "\u001b[0;31mNameError\u001b[0m                                 Traceback (most recent call last)",
      "\u001b[0;32m<ipython-input-5-1c1b2c200536>\u001b[0m in \u001b[0;36m<module>\u001b[0;34m\u001b[0m\n\u001b[1;32m      1\u001b[0m \u001b[0;31m# initAccount(10, 100000)\u001b[0m\u001b[0;34m\u001b[0m\u001b[0;34m\u001b[0m\u001b[0;34m\u001b[0m\u001b[0m\n\u001b[0;32m----> 2\u001b[0;31m \u001b[0mrsiStrategy\u001b[0m \u001b[0;34m=\u001b[0m \u001b[0mRSIStrategy\u001b[0m\u001b[0;34m(\u001b[0m\u001b[0;34m)\u001b[0m\u001b[0;34m\u001b[0m\u001b[0;34m\u001b[0m\u001b[0m\n\u001b[0m\u001b[1;32m      3\u001b[0m \u001b[0mexecuteTrade\u001b[0m\u001b[0;34m(\u001b[0m\u001b[0;34m\"2019-10-14\"\u001b[0m\u001b[0;34m,\u001b[0m \u001b[0mrsiStrategy\u001b[0m\u001b[0;34m)\u001b[0m\u001b[0;34m\u001b[0m\u001b[0;34m\u001b[0m\u001b[0m\n",
      "\u001b[0;31mNameError\u001b[0m: name 'RSIStrategy' is not defined"
     ],
     "output_type": "error"
    }
   ],
   "source": [
    "# initAccount(10, 100000)\n",
    "rsiStrategy = RSIStrategy()\n",
    "executeTrade(\"2019-10-14\", rsiStrategy)"
   ]
  },
  {
   "cell_type": "code",
   "execution_count": 12,
   "metadata": {},
   "outputs": [
    {
     "data": {
      "text/plain": [
       "'7abc9626ee6911e9902c784f4371f6dc'"
      ]
     },
     "execution_count": 12,
     "metadata": {},
     "output_type": "execute_result"
    }
   ],
   "source": [
    "str(uuid.uuid1()).replace(\"-\",\"\")"
   ]
  },
  {
   "cell_type": "code",
   "execution_count": null,
   "metadata": {},
   "outputs": [],
   "source": [
    ""
   ]
  }
 ],
 "metadata": {
  "kernelspec": {
   "display_name": "Python 3",
   "language": "python",
   "name": "python3"
  },
  "language_info": {
   "codemirror_mode": {
    "name": "ipython",
    "version": 3.0
   },
   "file_extension": ".py",
   "mimetype": "text/x-python",
   "name": "python",
   "nbconvert_exporter": "python",
   "pygments_lexer": "ipython3",
   "version": "3.7.3"
  }
 },
 "nbformat": 4,
 "nbformat_minor": 0
}