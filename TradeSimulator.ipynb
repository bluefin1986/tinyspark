{
 "cells": [
  {
   "cell_type": "code",
   "execution_count": 2,
   "metadata": {},
   "outputs": [],
   "source": [
    "import datetime\n",
    "from Account import *\n",
    "from Trade import *\n",
    "from StockHolding import *\n",
    "from Stock import *\n",
    "import uuid\n",
    "import KlineService\n",
    "from IPython.core.debugger import set_trace\n",
    "import dbutil\n",
    "\n",
    "#初始化指定数量的账号\n",
    "def initAccount(acctCount, equity):\n",
    "    if acctCount <= 0:\n",
    "        raise RuntimeError(\"初始化账户数得大于0\")\n",
    "    dateStr = datetime.datetime.strftime(datetime.datetime.now(), \"%m%d\")\n",
    "    mydb = dbutil.connectDB()\n",
    "    collection = mydb[\"Account\"]\n",
    "    dataList = []\n",
    "    for i in range(0, acctCount):\n",
    "        newAcct = Account(str(uuid.uuid1()).replace(\"-\",\"\"), dateStr + \"account\" + str(i + 1))\n",
    "        newAcct.initiatedEquity = equity\n",
    "        newAcct.equity = equity\n",
    "        dataList.append(newAcct.__dict__)\n",
    "    collection.insert_many(dataList)\n",
    "    \n",
    "#执行某一天的交易\n",
    "def executeTrade(specifiedDate):\n",
    "    #取所有的\n",
    "    df = KlineService.readAllStockKline(\"day\", specifiedDate, specifiedDate)\n",
    "    if df.empty:\n",
    "        raise RuntimeError(\"没有%s的K线数据，无法交易\" % specifiedDate)"
   ]
  },
  {
   "cell_type": "code",
   "execution_count": 3,
   "metadata": {},
   "outputs": [
    {
     "ename": "RuntimeError",
     "evalue": "没有2019-10-14的K线数据，无法交易",
     "output_type": "error",
     "traceback": [
      "\u001b[0;31m---------------------------------------------------------------------------\u001b[0m",
      "\u001b[0;31mRuntimeError\u001b[0m                              Traceback (most recent call last)",
      "\u001b[0;32m<ipython-input-3-00fd0a81d637>\u001b[0m in \u001b[0;36m<module>\u001b[0;34m\u001b[0m\n\u001b[1;32m      1\u001b[0m \u001b[0;31m# initAccount(10, 100000)\u001b[0m\u001b[0;34m\u001b[0m\u001b[0;34m\u001b[0m\u001b[0;34m\u001b[0m\u001b[0m\n\u001b[0;32m----> 2\u001b[0;31m \u001b[0mexecuteTrade\u001b[0m\u001b[0;34m(\u001b[0m\u001b[0;34m\"2019-10-14\"\u001b[0m\u001b[0;34m)\u001b[0m\u001b[0;34m\u001b[0m\u001b[0;34m\u001b[0m\u001b[0m\n\u001b[0m",
      "\u001b[0;32m<ipython-input-2-e6227e212856>\u001b[0m in \u001b[0;36mexecuteTrade\u001b[0;34m(specifiedDate)\u001b[0m\n\u001b[1;32m     29\u001b[0m     \u001b[0mdf\u001b[0m \u001b[0;34m=\u001b[0m \u001b[0mKlineService\u001b[0m\u001b[0;34m.\u001b[0m\u001b[0mreadAllStockKline\u001b[0m\u001b[0;34m(\u001b[0m\u001b[0;34m\"day\"\u001b[0m\u001b[0;34m,\u001b[0m \u001b[0mspecifiedDate\u001b[0m\u001b[0;34m,\u001b[0m \u001b[0mspecifiedDate\u001b[0m\u001b[0;34m)\u001b[0m\u001b[0;34m\u001b[0m\u001b[0;34m\u001b[0m\u001b[0m\n\u001b[1;32m     30\u001b[0m     \u001b[0;32mif\u001b[0m \u001b[0mdf\u001b[0m\u001b[0;34m.\u001b[0m\u001b[0mempty\u001b[0m\u001b[0;34m:\u001b[0m\u001b[0;34m\u001b[0m\u001b[0;34m\u001b[0m\u001b[0m\n\u001b[0;32m---> 31\u001b[0;31m         \u001b[0;32mraise\u001b[0m \u001b[0mRuntimeError\u001b[0m\u001b[0;34m(\u001b[0m\u001b[0;34m\"没有%s的K线数据，无法交易\"\u001b[0m \u001b[0;34m%\u001b[0m \u001b[0mspecifiedDate\u001b[0m\u001b[0;34m)\u001b[0m\u001b[0;34m\u001b[0m\u001b[0;34m\u001b[0m\u001b[0m\n\u001b[0m",
      "\u001b[0;31mRuntimeError\u001b[0m: 没有2019-10-14的K线数据，无法交易"
     ]
    }
   ],
   "source": [
    "# initAccount(10, 100000)\n",
    "executeTrade(\"2019-10-14\")"
   ]
  },
  {
   "cell_type": "code",
   "execution_count": 12,
   "metadata": {},
   "outputs": [
    {
     "data": {
      "text/plain": [
       "'7abc9626ee6911e9902c784f4371f6dc'"
      ]
     },
     "execution_count": 12,
     "metadata": {},
     "output_type": "execute_result"
    }
   ],
   "source": [
    "str(uuid.uuid1()).replace(\"-\",\"\")"
   ]
  },
  {
   "cell_type": "code",
   "execution_count": null,
   "metadata": {},
   "outputs": [],
   "source": []
  }
 ],
 "metadata": {
  "kernelspec": {
   "display_name": "Python 3",
   "language": "python",
   "name": "python3"
  },
  "language_info": {
   "codemirror_mode": {
    "name": "ipython",
    "version": 3
   },
   "file_extension": ".py",
   "mimetype": "text/x-python",
   "name": "python",
   "nbconvert_exporter": "python",
   "pygments_lexer": "ipython3",
   "version": "3.7.3"
  }
 },
 "nbformat": 4,
 "nbformat_minor": 2
}
