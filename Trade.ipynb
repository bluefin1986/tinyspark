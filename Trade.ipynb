{
 "cells": [
  {
   "cell_type": "code",
   "execution_count": 1,
   "metadata": {},
   "outputs": [],
   "source": [
    "class Trade(object):\n",
    "    \n",
    "    tradeAcct = None\n",
    "    stockCode = None\n",
    "    stockName = None\n",
    "    #买卖方向 0-买 1-卖\n",
    "    tradeType = None\n",
    "    #交易股数\n",
    "    stockNums = 0\n",
    "    #交易价格\n",
    "    tradePrice = 0.0\n",
    "    #交易金额\n",
    "    tradeAmount = 0.0\n",
    "    #交易手续费\n",
    "    tradeFee = 0.0\n",
    "    #交易日期\n",
    "    tradeDate = None\n",
    "    \n",
    "    def __init__(self, tradeAcct, stockCode, tradeType, stockNums, tradePrice, tradeDate):\n",
    "        self.tradeAcct = tradeAcct\n",
    "        self.stockCode = stockCode\n",
    "        self.tradeType = tradeType\n",
    "        self.stockNums = stockNums\n",
    "        self.tradePrice = tradePrice\n",
    "        self.tradeAmount = tradePrice * stockNums\n",
    "        self.tradeDate = tradeDate"
   ]
  },
  {
   "cell_type": "code",
   "execution_count": null,
   "metadata": {},
   "outputs": [],
   "source": []
  }
 ],
 "metadata": {
  "kernelspec": {
   "display_name": "Python 3",
   "language": "python",
   "name": "python3"
  },
  "language_info": {
   "codemirror_mode": {
    "name": "ipython",
    "version": 3
   },
   "file_extension": ".py",
   "mimetype": "text/x-python",
   "name": "python",
   "nbconvert_exporter": "python",
   "pygments_lexer": "ipython3",
   "version": "3.7.3"
  }
 },
 "nbformat": 4,
 "nbformat_minor": 2
}
