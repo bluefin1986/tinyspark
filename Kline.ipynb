{
 "cells": [
  {
   "cell_type": "code",
   "execution_count": 9,
   "metadata": {},
   "outputs": [],
   "source": [
    "#K线父类\n",
    "class Kline(object):\n",
    "    code = None\n",
    "    name = None\n",
    "    date = None\n",
    "    openPrice = 0\n",
    "    highPrice = 0\n",
    "    lowPrice = 0\n",
    "    closePrice = 0\n",
    "    #成交量（累计 单位：股）\n",
    "    volumn = 0\n",
    "    #成交额（单位：人民币元）\n",
    "    amount = 0\n",
    "    #复权状态(1：后复权， 2：前复权，3：不复权）\n",
    "    adjustFlag = None\n",
    "    \n",
    "    def __init__(self,code,name):\n",
    "        self.code = code\n",
    "        self.name = name\n",
    "        \n",
    "    def __str__(self):\n",
    "        return '(%s %s %s %s)' %(self.code, self.name, self.date, self.closePrice)\n",
    "\n",
    "#日K线\n",
    "class DayKline(Kline):\n",
    "    #换手率\n",
    "    turn = 0\n",
    "    #交易状态(1：正常交易 0：停牌）\n",
    "    tradeStatus = 1\n",
    "    #涨跌幅（百分比）\n",
    "    changePercent = 0\n",
    "    #昨收\n",
    "    preClosePrice = 0\n",
    "    #是否ST股，1是，0否\n",
    "    isST = 0\n",
    "    \n",
    "    def __str__(self):\n",
    "        return '(%s %s 日线收盘（%s）：%s)' %(self.code, self.name, self.date, self.closePrice)\n",
    "    \n",
    "#周K线\n",
    "class WeekKline(Kline):\n",
    "    def __str__(self):\n",
    "        return '(%s %s 周线收盘（%s）：%s)' %(self.code, self.name, self.date, self.closePrice)\n",
    "    \n",
    "#月K线\n",
    "class MonthKline(Kline):\n",
    "    def __str__(self):\n",
    "        return '(%s %s 月线收盘（%s）：%s)' %(self.code, self.name, self.date, self.closePrice)\n",
    "\n",
    "#5分钟线\n",
    "class FiveMinKline(Kline):\n",
    "    def __str__(self):\n",
    "        return '(%s %s 5分钟收盘（%s）：%s)' %(self.code, self.name, self.date, self.closePrice)\n",
    "#30分钟线\n",
    "class ThirtyMinKline(Kline):\n",
    "    def __str__(self):\n",
    "        return '(%s %s 5分钟收盘（%s）：%s)' %(self.code, self.name, self.date, self.closePrice)\n",
    "#60分钟线\n",
    "class SixtyMinKline(Kline):\n",
    "    def __str__(self):\n",
    "        return '(%s %s 5分钟收盘（%s）：%s)' %(self.code, self.name, self.date, self.closePrice)"
   ]
  },
  {
   "cell_type": "code",
   "execution_count": 8,
   "metadata": {},
   "outputs": [
    {
     "name": "stdout",
     "output_type": "stream",
     "text": [
      "深发展\n"
     ]
    }
   ],
   "source": [
    "dayk = Kline(\"sz.000001\", \"深发展\")\n",
    "print (dayk.name)"
   ]
  },
  {
   "cell_type": "code",
   "execution_count": null,
   "metadata": {},
   "outputs": [],
   "source": []
  }
 ],
 "metadata": {
  "kernelspec": {
   "display_name": "Python 3",
   "language": "python",
   "name": "python3"
  },
  "language_info": {
   "codemirror_mode": {
    "name": "ipython",
    "version": 3
   },
   "file_extension": ".py",
   "mimetype": "text/x-python",
   "name": "python",
   "nbconvert_exporter": "python",
   "pygments_lexer": "ipython3",
   "version": "3.7.3"
  }
 },
 "nbformat": 4,
 "nbformat_minor": 2
}
