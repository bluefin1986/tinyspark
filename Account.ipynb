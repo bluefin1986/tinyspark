{
 "cells": [
  {
   "cell_type": "code",
   "execution_count": 1,
   "metadata": {},
   "outputs": [],
   "source": [
    "class Account(object):\n",
    "    acctId = None\n",
    "    acctName = None\n",
    "    #起始资金\n",
    "    initiatedEquity = 0.0\n",
    "    #资产总值\n",
    "    equity = 0.0\n",
    "    #可用金额\n",
    "    balanceAvailable = 0.0\n",
    "    #盈利\n",
    "    profits = 0.0\n",
    "    \n",
    "    def __init__(self, acctId, acctName):\n",
    "        self.acctId = acctId\n",
    "        self.acctName = acctName\n",
    "        \n",
    "    def __str__(self):\n",
    "        print('(%s %s %f %f)' % (self.acctId, self.acctName, self.equity, profits))"
   ]
  },
  {
   "cell_type": "code",
   "execution_count": null,
   "metadata": {},
   "outputs": [],
   "source": []
  }
 ],
 "metadata": {
  "kernelspec": {
   "display_name": "Python 3",
   "language": "python",
   "name": "python3"
  },
  "language_info": {
   "codemirror_mode": {
    "name": "ipython",
    "version": 3
   },
   "file_extension": ".py",
   "mimetype": "text/x-python",
   "name": "python",
   "nbconvert_exporter": "python",
   "pygments_lexer": "ipython3",
   "version": "3.7.3"
  }
 },
 "nbformat": 4,
 "nbformat_minor": 2
}
