{
 "cells": [
  {
   "cell_type": "code",
   "execution_count": null,
   "metadata": {},
   "outputs": [],
   "source": [
    "class BollBand(object):\n",
    "    code = None\n",
    "    name = None\n",
    "    date = None\n",
    "    upper = 0\n",
    "    middle = 0\n",
    "    lower = 0\n",
    "    closePrice = 0\n",
    "    overBuy = False\n",
    "    overSell = False\n",
    "    def __init__(self,code,name):\n",
    "        self.code = code\n",
    "        self.name = name\n",
    "        \n",
    "    def __str__(self):\n",
    "        return '(%s %s %s %s)' %(self.code, self.name, self.date, self.closePrice)\n",
    "\n",
    "class DayBollBand(BollBand):\n",
    "    def __str__(self):\n",
    "        return '(%s %s 日线布林（%s）：%s)' %(self.code, self.name, self.date, self.closePrice)\n",
    "class WeekBollBand(BollBand):\n",
    "    def __str__(self):\n",
    "        return '(%s %s 周线布林（%s）：%s)' %(self.code, self.name, self.date, self.closePrice)\n",
    "class MonthBollBand(BollBand):\n",
    "    def __str__(self):\n",
    "        return '(%s %s 月线布林（%s）：%s)' %(self.code, self.name, self.date, self.closePrice)\n",
    "class FiveMinBollBand(BollBand):\n",
    "    def __str__(self):\n",
    "        return '(%s %s 5分钟线布林（%s）：%s)' %(self.code, self.name, self.date, self.closePrice)\n",
    "class FiftyMinBollBand(BollBand):\n",
    "    def __str__(self):\n",
    "        return '(%s %s 15分钟线布林（%s）：%s)' %(self.code, self.name, self.date, self.closePrice)\n",
    "class ThirtyMinBollBand(BollBand):\n",
    "    def __str__(self):\n",
    "        return '(%s %s 30分钟线布林（%s）：%s)' %(self.code, self.name, self.date, self.closePrice)\n",
    "class SixtyMinBollBand(BollBand):\n",
    "    def __str__(self):\n",
    "        return '(%s %s 小时线布林（%s）：%s)' %(self.code, self.name, self.date, self.closePrice)"
   ]
  }
 ],
 "metadata": {
  "kernelspec": {
   "display_name": "Python 3",
   "language": "python",
   "name": "python3"
  },
  "language_info": {
   "codemirror_mode": {
    "name": "ipython",
    "version": 3
   },
   "file_extension": ".py",
   "mimetype": "text/x-python",
   "name": "python",
   "nbconvert_exporter": "python",
   "pygments_lexer": "ipython3",
   "version": "3.7.3"
  }
 },
 "nbformat": 4,
 "nbformat_minor": 2
}
